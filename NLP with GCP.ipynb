{
 "cells": [
  {
   "cell_type": "markdown",
   "metadata": {},
   "source": [
    "![](file:///Users/Jessica/Desktop/Screenshot%202018-03-11%2023.37.25.png)"
   ]
  },
  {
   "cell_type": "markdown",
   "metadata": {},
   "source": [
    "![setup](file:///Users/Jessica/Desktop/Screenshot%202018-03-11%2023.37.25.png)"
   ]
  },
  {
   "cell_type": "code",
   "execution_count": 1,
   "metadata": {
    "collapsed": true
   },
   "outputs": [],
   "source": [
    "def implicit():\n",
    "    from google.cloud import storage\n",
    "\n",
    "    # If you don't specify credentials when constructing the client, the\n",
    "    # client library will look for credentials in the environment.\n",
    "    storage_client = storage.Client()\n",
    "\n",
    "    # Make an authenticated API request\n",
    "    buckets = list(storage_client.list_buckets())\n",
    "    print(buckets)"
   ]
  },
  {
   "cell_type": "code",
   "execution_count": 4,
   "metadata": {
    "collapsed": true
   },
   "outputs": [
    {
     "name": "stdout",
     "output_type": "stream",
     "text": [
      "Collecting google.cloud\n",
      "  Downloading google_cloud-0.32.0-py2.py3-none-any.whl\n",
      "Collecting google-cloud-videointelligence<1.1dev,>=1.0.0 (from google.cloud)\n",
      "  Downloading google_cloud_videointelligence-1.0.1-py2.py3-none-any.whl (57kB)\n",
      "\u001b[K    100% |████████████████████████████████| 61kB 1.1MB/s ta 0:00:01\n",
      "\u001b[?25hCollecting google-cloud-core<0.29dev,>=0.28.0 (from google.cloud)\n",
      "  Downloading google_cloud_core-0.28.1-py2.py3-none-any.whl\n",
      "Collecting google-cloud-bigtable<0.29dev,>=0.28.1 (from google.cloud)\n",
      "  Downloading google_cloud_bigtable-0.28.1-py2.py3-none-any.whl (88kB)\n",
      "\u001b[K    100% |████████████████████████████████| 92kB 2.8MB/s ta 0:00:011\n",
      "\u001b[?25hCollecting google-cloud-bigquery<0.29dev,>=0.28.0 (from google.cloud)\n",
      "  Downloading google_cloud_bigquery-0.28.0-py2.py3-none-any.whl (64kB)\n",
      "\u001b[K    100% |████████████████████████████████| 71kB 9.1MB/s eta 0:00:01\n",
      "\u001b[?25hCollecting google-cloud-storage<1.7dev,>=1.6.0 (from google.cloud)\n",
      "  Downloading google_cloud_storage-1.6.0-py2.py3-none-any.whl (51kB)\n",
      "\u001b[K    100% |████████████████████████████████| 61kB 5.2MB/s ta 0:00:011\n",
      "\u001b[?25hCollecting google-cloud-spanner<0.30dev,>=0.29.0 (from google.cloud)\n",
      "  Downloading google_cloud_spanner-0.29.0-py2.py3-none-any.whl (133kB)\n",
      "\u001b[K    100% |████████████████████████████████| 143kB 3.8MB/s ta 0:00:01\n",
      "\u001b[?25hCollecting google-cloud-container<0.2dev,>=0.1.0 (from google.cloud)\n",
      "  Downloading google_cloud_container-0.1.1-py2.py3-none-any.whl (50kB)\n",
      "\u001b[K    100% |████████████████████████████████| 51kB 5.4MB/s ta 0:00:011\n",
      "\u001b[?25hCollecting google-cloud-pubsub<0.31dev,>=0.30.0 (from google.cloud)\n",
      "  Downloading google_cloud_pubsub-0.30.1-py2.py3-none-any.whl (88kB)\n",
      "\u001b[K    100% |████████████████████████████████| 92kB 2.9MB/s ta 0:00:011\n",
      "\u001b[?25hCollecting google-cloud-resource-manager<0.29dev,>=0.28.0 (from google.cloud)\n",
      "  Downloading google_cloud_resource_manager-0.28.1-py2.py3-none-any.whl\n",
      "Collecting google-cloud-datastore<1.5dev,>=1.4.0 (from google.cloud)\n",
      "  Downloading google_cloud_datastore-1.4.0-py2.py3-none-any.whl (44kB)\n",
      "\u001b[K    100% |████████████████████████████████| 51kB 7.3MB/s eta 0:00:01\n",
      "\u001b[?25hCollecting google-cloud-runtimeconfig<0.29dev,>=0.28.0 (from google.cloud)\n",
      "  Downloading google_cloud_runtimeconfig-0.28.1-py2.py3-none-any.whl\n",
      "Collecting google-cloud-dns<0.29dev,>=0.28.0 (from google.cloud)\n",
      "  Downloading google_cloud_dns-0.28.0-py2.py3-none-any.whl\n",
      "Collecting google-cloud-monitoring<0.29dev,>=0.28.0 (from google.cloud)\n",
      "  Downloading google_cloud_monitoring-0.28.1-py2.py3-none-any.whl\n",
      "Collecting google-cloud-vision<0.30dev,>=0.29.0 (from google.cloud)\n",
      "  Downloading google_cloud_vision-0.29.0-py2.py3-none-any.whl (71kB)\n",
      "\u001b[K    100% |████████████████████████████████| 81kB 2.5MB/s ta 0:00:011\n",
      "\u001b[?25hCollecting google-cloud-language<1.1dev,>=1.0.0 (from google.cloud)\n",
      "  Downloading google_cloud_language-1.0.1-py2.py3-none-any.whl (59kB)\n",
      "\u001b[K    100% |████████████████████████████████| 61kB 3.6MB/s ta 0:00:011\n",
      "\u001b[?25hCollecting google-cloud-bigquery-datatransfer<0.2dev,>=0.1.0 (from google.cloud)\n",
      "  Downloading google_cloud_bigquery_datatransfer-0.1.1-py2.py3-none-any.whl\n",
      "Collecting google-cloud-logging<1.5dev,>=1.4.0 (from google.cloud)\n",
      "  Downloading google_cloud_logging-1.4.0-py2.py3-none-any.whl (43kB)\n",
      "\u001b[K    100% |████████████████████████████████| 51kB 3.1MB/s ta 0:00:011\n",
      "\u001b[?25hCollecting google-api-core<0.2.0dev,>=0.1.2 (from google.cloud)\n",
      "  Downloading google_api_core-0.1.4-py2.py3-none-any.whl (50kB)\n",
      "\u001b[K    100% |████████████████████████████████| 51kB 3.4MB/s ta 0:00:011\n",
      "\u001b[?25hCollecting google-cloud-trace<0.18dev,>=0.17.0 (from google.cloud)\n",
      "  Downloading google_cloud_trace-0.17.0-py2.py3-none-any.whl (68kB)\n",
      "\u001b[K    100% |████████████████████████████████| 71kB 3.0MB/s ta 0:00:011\n",
      "\u001b[?25hCollecting google-cloud-error-reporting<0.29dev,>=0.28.0 (from google.cloud)\n",
      "  Downloading google_cloud_error_reporting-0.28.0-py2.py3-none-any.whl\n",
      "Collecting google-cloud-speech<0.31dev,>=0.30.0 (from google.cloud)\n",
      "  Downloading google_cloud_speech-0.30.0-py2.py3-none-any.whl (42kB)\n",
      "\u001b[K    100% |████████████████████████████████| 51kB 1.5MB/s ta 0:00:01\n",
      "\u001b[?25hCollecting google-cloud-translate<1.4dev,>=1.3.0 (from google.cloud)\n",
      "  Downloading google_cloud_translate-1.3.1-py2.py3-none-any.whl\n",
      "Collecting google-cloud-firestore<0.29dev,>=0.28.0 (from google.cloud)\n",
      "  Downloading google_cloud_firestore-0.28.0-py2.py3-none-any.whl (150kB)\n",
      "\u001b[K    100% |████████████████████████████████| 153kB 338kB/s ta 0:00:01\n",
      "\u001b[?25hCollecting google-gax<0.16dev,>=0.15.7 (from google-cloud-bigtable<0.29dev,>=0.28.1->google.cloud)\n",
      "  Downloading google_gax-0.15.16-py2.py3-none-any.whl (46kB)\n",
      "\u001b[K    100% |████████████████████████████████| 51kB 2.4MB/s ta 0:00:011\n",
      "\u001b[?25hRequirement already satisfied: requests>=2.18.0 in /Library/Frameworks/Python.framework/Versions/3.6/lib/python3.6/site-packages (from google-cloud-bigquery<0.29dev,>=0.28.0->google.cloud)\n",
      "Collecting google-resumable-media>=0.2.1 (from google-cloud-bigquery<0.29dev,>=0.28.0->google.cloud)\n",
      "  Downloading google_resumable_media-0.3.1-py2.py3-none-any.whl\n",
      "Collecting google-auth>=1.0.0 (from google-cloud-bigquery<0.29dev,>=0.28.0->google.cloud)\n",
      "  Downloading google_auth-1.4.1-py2.py3-none-any.whl (65kB)\n",
      "\u001b[K    100% |████████████████████████████████| 71kB 2.5MB/s ta 0:00:01\n",
      "\u001b[?25hCollecting grpc-google-iam-v1<0.12dev,>=0.11.4 (from google-cloud-spanner<0.30dev,>=0.29.0->google.cloud)\n",
      "  Downloading grpc-google-iam-v1-0.11.4.tar.gz\n",
      "Collecting psutil<6.0dev,>=5.2.2 (from google-cloud-pubsub<0.31dev,>=0.30.0->google.cloud)\n",
      "  Downloading psutil-5.4.3.tar.gz (412kB)\n",
      "\u001b[K    100% |████████████████████████████████| 419kB 1.2MB/s ta 0:00:01\n",
      "\u001b[?25hCollecting gapic-google-cloud-datastore-v1<0.16dev,>=0.15.0 (from google-cloud-datastore<1.5dev,>=1.4.0->google.cloud)\n",
      "  Downloading gapic-google-cloud-datastore-v1-0.15.3.tar.gz\n",
      "Collecting googleapis-common-protos[grpc]<2.0dev,>=1.5.2 (from google-cloud-vision<0.30dev,>=0.29.0->google.cloud)\n",
      "  Downloading googleapis-common-protos-1.5.3.tar.gz\n",
      "Collecting gapic-google-cloud-logging-v2<0.92dev,>=0.91.0 (from google-cloud-logging<1.5dev,>=1.4.0->google.cloud)\n",
      "  Downloading gapic-google-cloud-logging-v2-0.91.3.tar.gz\n",
      "Requirement already satisfied: six>=1.10.0 in /Library/Frameworks/Python.framework/Versions/3.6/lib/python3.6/site-packages (from google-api-core<0.2.0dev,>=0.1.2->google.cloud)\n",
      "Requirement already satisfied: setuptools>=34.0.0 in /Library/Frameworks/Python.framework/Versions/3.6/lib/python3.6/site-packages (from google-api-core<0.2.0dev,>=0.1.2->google.cloud)\n",
      "Requirement already satisfied: pytz in /Library/Frameworks/Python.framework/Versions/3.6/lib/python3.6/site-packages (from google-api-core<0.2.0dev,>=0.1.2->google.cloud)\n",
      "Requirement already satisfied: protobuf>=3.0.0 in /Library/Frameworks/Python.framework/Versions/3.6/lib/python3.6/site-packages (from google-api-core<0.2.0dev,>=0.1.2->google.cloud)\n",
      "Collecting gapic-google-cloud-error-reporting-v1beta1<0.16dev,>=0.15.0 (from google-cloud-error-reporting<0.29dev,>=0.28.0->google.cloud)\n",
      "  Downloading gapic-google-cloud-error-reporting-v1beta1-0.15.3.tar.gz\n",
      "Collecting future<0.17dev,>=0.16.0 (from google-gax<0.16dev,>=0.15.7->google-cloud-bigtable<0.29dev,>=0.28.1->google.cloud)\n",
      "  Downloading future-0.16.0.tar.gz (824kB)\n",
      "\u001b[K    100% |████████████████████████████████| 829kB 247kB/s ta 0:00:01\n",
      "\u001b[?25hCollecting dill<0.3dev,>=0.2.5 (from google-gax<0.16dev,>=0.15.7->google-cloud-bigtable<0.29dev,>=0.28.1->google.cloud)\n",
      "  Downloading dill-0.2.7.1.tar.gz (64kB)\n",
      "\u001b[K    100% |████████████████████████████████| 71kB 1.1MB/s ta 0:00:01\n",
      "\u001b[?25hCollecting grpcio<2.0dev,>=1.0.2 (from google-gax<0.16dev,>=0.15.7->google-cloud-bigtable<0.29dev,>=0.28.1->google.cloud)\n",
      "  Downloading grpcio-1.10.0-cp36-cp36m-macosx_10_11_x86_64.whl (1.5MB)\n",
      "\u001b[K    100% |████████████████████████████████| 1.5MB 552kB/s ta 0:00:01\n",
      "\u001b[?25hCollecting ply==3.8 (from google-gax<0.16dev,>=0.15.7->google-cloud-bigtable<0.29dev,>=0.28.1->google.cloud)\n",
      "  Downloading ply-3.8.tar.gz (157kB)\n",
      "\u001b[K    100% |████████████████████████████████| 163kB 1.2MB/s ta 0:00:01\n",
      "\u001b[?25hRequirement already satisfied: urllib3<1.23,>=1.21.1 in /Library/Frameworks/Python.framework/Versions/3.6/lib/python3.6/site-packages (from requests>=2.18.0->google-cloud-bigquery<0.29dev,>=0.28.0->google.cloud)\n",
      "Requirement already satisfied: chardet<3.1.0,>=3.0.2 in /Library/Frameworks/Python.framework/Versions/3.6/lib/python3.6/site-packages (from requests>=2.18.0->google-cloud-bigquery<0.29dev,>=0.28.0->google.cloud)\n",
      "Requirement already satisfied: certifi>=2017.4.17 in /Library/Frameworks/Python.framework/Versions/3.6/lib/python3.6/site-packages (from requests>=2.18.0->google-cloud-bigquery<0.29dev,>=0.28.0->google.cloud)\n",
      "Requirement already satisfied: idna<2.7,>=2.5 in /Library/Frameworks/Python.framework/Versions/3.6/lib/python3.6/site-packages (from requests>=2.18.0->google-cloud-bigquery<0.29dev,>=0.28.0->google.cloud)\n"
     ]
    },
    {
     "name": "stdout",
     "output_type": "stream",
     "text": [
      "Collecting pyasn1-modules>=0.2.1 (from google-auth>=1.0.0->google-cloud-bigquery<0.29dev,>=0.28.0->google.cloud)\n",
      "  Downloading pyasn1_modules-0.2.1-py2.py3-none-any.whl (60kB)\n",
      "\u001b[K    100% |████████████████████████████████| 61kB 1.3MB/s ta 0:00:01\n",
      "\u001b[?25hCollecting rsa>=3.1.4 (from google-auth>=1.0.0->google-cloud-bigquery<0.29dev,>=0.28.0->google.cloud)\n",
      "  Using cached rsa-3.4.2-py2.py3-none-any.whl\n",
      "Collecting cachetools>=2.0.0 (from google-auth>=1.0.0->google-cloud-bigquery<0.29dev,>=0.28.0->google.cloud)\n",
      "  Downloading cachetools-2.0.1-py2.py3-none-any.whl\n",
      "Collecting oauth2client<4.0dev,>=2.0.0 (from gapic-google-cloud-datastore-v1<0.16dev,>=0.15.0->google-cloud-datastore<1.5dev,>=1.4.0->google.cloud)\n",
      "  Downloading oauth2client-3.0.0.tar.gz (77kB)\n",
      "\u001b[K    100% |████████████████████████████████| 81kB 184kB/s ta 0:00:01\n",
      "\u001b[?25hCollecting proto-google-cloud-datastore-v1[grpc]<0.91dev,>=0.90.3 (from gapic-google-cloud-datastore-v1<0.16dev,>=0.15.0->google-cloud-datastore<1.5dev,>=1.4.0->google.cloud)\n",
      "  Downloading proto-google-cloud-datastore-v1-0.90.4.tar.gz\n",
      "Collecting proto-google-cloud-logging-v2[grpc]<0.92dev,>=0.91.3 (from gapic-google-cloud-logging-v2<0.92dev,>=0.91.0->google-cloud-logging<1.5dev,>=1.4.0->google.cloud)\n",
      "  Downloading proto-google-cloud-logging-v2-0.91.3.tar.gz\n",
      "Collecting proto-google-cloud-error-reporting-v1beta1[grpc]<0.16dev,>=0.15.3 (from gapic-google-cloud-error-reporting-v1beta1<0.16dev,>=0.15.0->google-cloud-error-reporting<0.29dev,>=0.28.0->google.cloud)\n",
      "  Downloading proto-google-cloud-error-reporting-v1beta1-0.15.3.tar.gz\n",
      "Collecting pyasn1<0.5.0,>=0.4.1 (from pyasn1-modules>=0.2.1->google-auth>=1.0.0->google-cloud-bigquery<0.29dev,>=0.28.0->google.cloud)\n",
      "  Using cached pyasn1-0.4.2-py2.py3-none-any.whl\n",
      "Collecting httplib2>=0.9.1 (from oauth2client<4.0dev,>=2.0.0->gapic-google-cloud-datastore-v1<0.16dev,>=0.15.0->google-cloud-datastore<1.5dev,>=1.4.0->google.cloud)\n",
      "  Downloading httplib2-0.10.3.tar.gz (204kB)\n",
      "\u001b[K    100% |████████████████████████████████| 204kB 669kB/s ta 0:00:01\n",
      "\u001b[?25hBuilding wheels for collected packages: grpc-google-iam-v1, psutil, gapic-google-cloud-datastore-v1, googleapis-common-protos, gapic-google-cloud-logging-v2, gapic-google-cloud-error-reporting-v1beta1, future, dill, ply, oauth2client, proto-google-cloud-datastore-v1, proto-google-cloud-logging-v2, proto-google-cloud-error-reporting-v1beta1, httplib2\n",
      "  Running setup.py bdist_wheel for grpc-google-iam-v1 ... \u001b[?25ldone\n",
      "\u001b[?25h  Stored in directory: /Users/Jessica/Library/Caches/pip/wheels/5b/fb/70/a586dc38157ecf8f242cc2207d163545ac0784c05728df7492\n",
      "  Running setup.py bdist_wheel for psutil ... \u001b[?25ldone\n",
      "\u001b[?25h  Stored in directory: /Users/Jessica/Library/Caches/pip/wheels/8b/83/e9/f0feab7d059e177e6f3834f42b8a302805fd83dbb16405515a\n",
      "  Running setup.py bdist_wheel for gapic-google-cloud-datastore-v1 ... \u001b[?25ldone\n",
      "\u001b[?25h  Stored in directory: /Users/Jessica/Library/Caches/pip/wheels/10/d3/e6/07e9f74e3ad76c03dfb99357e40817808f6847527ef7d5e4e0\n",
      "  Running setup.py bdist_wheel for googleapis-common-protos ... \u001b[?25ldone\n",
      "\u001b[?25h  Stored in directory: /Users/Jessica/Library/Caches/pip/wheels/93/e0/cb/b06866f012310b96fba79c37f199aaf973a2e97a42ca7ef696\n",
      "  Running setup.py bdist_wheel for gapic-google-cloud-logging-v2 ... \u001b[?25ldone\n",
      "\u001b[?25h  Stored in directory: /Users/Jessica/Library/Caches/pip/wheels/83/3e/68/8f08e318598b39e60d451daf8eca355acf1b2c13e812975db8\n",
      "  Running setup.py bdist_wheel for gapic-google-cloud-error-reporting-v1beta1 ... \u001b[?25ldone\n",
      "\u001b[?25h  Stored in directory: /Users/Jessica/Library/Caches/pip/wheels/f8/0e/44/2779ae6ef8a970e61c8c3aa8434e90ae303fa29b6e05761aa3\n",
      "  Running setup.py bdist_wheel for future ... \u001b[?25ldone\n",
      "\u001b[?25h  Stored in directory: /Users/Jessica/Library/Caches/pip/wheels/c2/50/7c/0d83b4baac4f63ff7a765bd16390d2ab43c93587fac9d6017a\n",
      "  Running setup.py bdist_wheel for dill ... \u001b[?25ldone\n",
      "\u001b[?25h  Stored in directory: /Users/Jessica/Library/Caches/pip/wheels/e5/88/fe/7e290ce5bb39d531eb9bee5cf254ba1c3e3c7ba3339ce67bee\n",
      "  Running setup.py bdist_wheel for ply ... \u001b[?25ldone\n",
      "\u001b[?25h  Stored in directory: /Users/Jessica/Library/Caches/pip/wheels/6f/23/3c/7055bf8004cee3c7d06c46318014e0374539094c4e36246e9a\n",
      "  Running setup.py bdist_wheel for oauth2client ... \u001b[?25ldone\n",
      "\u001b[?25h  Stored in directory: /Users/Jessica/Library/Caches/pip/wheels/b3/44/e9/e56c5a2ca8869305f38254df012fb16b2807eb9d5d55291e8b\n",
      "  Running setup.py bdist_wheel for proto-google-cloud-datastore-v1 ... \u001b[?25ldone\n",
      "\u001b[?25h  Stored in directory: /Users/Jessica/Library/Caches/pip/wheels/fe/e5/02/3f0fb27e5e2d7057f9ce3cd88031a0b8a5244a1ad70d46c9c7\n",
      "  Running setup.py bdist_wheel for proto-google-cloud-logging-v2 ... \u001b[?25ldone\n",
      "\u001b[?25h  Stored in directory: /Users/Jessica/Library/Caches/pip/wheels/f8/43/bd/1c0ee6c7f3eeb680eaf40b9de784f47c9ba4b309198d08c751\n",
      "  Running setup.py bdist_wheel for proto-google-cloud-error-reporting-v1beta1 ... \u001b[?25ldone\n",
      "\u001b[?25h  Stored in directory: /Users/Jessica/Library/Caches/pip/wheels/0c/a3/44/9ab8f3edd663b058ffd91c6001e99c3b034e3aa8c8b9c251d6\n",
      "  Running setup.py bdist_wheel for httplib2 ... \u001b[?25ldone\n",
      "\u001b[?25h  Stored in directory: /Users/Jessica/Library/Caches/pip/wheels/ca/ac/5f/749651f7925b231103f5316cacca82a487810c22d30f011c0c\n",
      "Successfully built grpc-google-iam-v1 psutil gapic-google-cloud-datastore-v1 googleapis-common-protos gapic-google-cloud-logging-v2 gapic-google-cloud-error-reporting-v1beta1 future dill ply oauth2client proto-google-cloud-datastore-v1 proto-google-cloud-logging-v2 proto-google-cloud-error-reporting-v1beta1 httplib2\n",
      "Installing collected packages: grpcio, googleapis-common-protos, pyasn1, pyasn1-modules, rsa, cachetools, google-auth, google-api-core, google-cloud-videointelligence, google-cloud-core, future, dill, ply, google-gax, google-cloud-bigtable, google-resumable-media, google-cloud-bigquery, google-cloud-storage, grpc-google-iam-v1, google-cloud-spanner, google-cloud-container, psutil, google-cloud-pubsub, google-cloud-resource-manager, httplib2, oauth2client, proto-google-cloud-datastore-v1, gapic-google-cloud-datastore-v1, google-cloud-datastore, google-cloud-runtimeconfig, google-cloud-dns, google-cloud-monitoring, google-cloud-vision, google-cloud-language, google-cloud-bigquery-datatransfer, proto-google-cloud-logging-v2, gapic-google-cloud-logging-v2, google-cloud-logging, google-cloud-trace, proto-google-cloud-error-reporting-v1beta1, gapic-google-cloud-error-reporting-v1beta1, google-cloud-error-reporting, google-cloud-speech, google-cloud-translate, google-cloud-firestore, google.cloud\n",
      "Successfully installed cachetools-2.0.1 dill-0.2.7.1 future-0.16.0 gapic-google-cloud-datastore-v1-0.15.3 gapic-google-cloud-error-reporting-v1beta1-0.15.3 gapic-google-cloud-logging-v2-0.91.3 google-api-core-0.1.4 google-auth-1.4.1 google-cloud-bigquery-0.28.0 google-cloud-bigquery-datatransfer-0.1.1 google-cloud-bigtable-0.28.1 google-cloud-container-0.1.1 google-cloud-core-0.28.1 google-cloud-datastore-1.4.0 google-cloud-dns-0.28.0 google-cloud-error-reporting-0.28.0 google-cloud-firestore-0.28.0 google-cloud-language-1.0.1 google-cloud-logging-1.4.0 google-cloud-monitoring-0.28.1 google-cloud-pubsub-0.30.1 google-cloud-resource-manager-0.28.1 google-cloud-runtimeconfig-0.28.1 google-cloud-spanner-0.29.0 google-cloud-speech-0.30.0 google-cloud-storage-1.6.0 google-cloud-trace-0.17.0 google-cloud-translate-1.3.1 google-cloud-videointelligence-1.0.1 google-cloud-vision-0.29.0 google-gax-0.15.16 google-resumable-media-0.3.1 google.cloud googleapis-common-protos-1.5.3 grpc-google-iam-v1-0.11.4 grpcio-1.10.0 httplib2-0.10.3 oauth2client-3.0.0 ply-3.8 proto-google-cloud-datastore-v1-0.90.4 proto-google-cloud-error-reporting-v1beta1-0.15.3 proto-google-cloud-logging-v2-0.91.3 psutil-5.4.3 pyasn1-0.4.2 pyasn1-modules-0.2.1 rsa-3.4.2\n"
     ]
    }
   ],
   "source": [
    "#!pip3 install google.cloud"
   ]
  },
  {
   "cell_type": "code",
   "execution_count": 1,
   "metadata": {
    "collapsed": true
   },
   "outputs": [],
   "source": [
    "import os"
   ]
  },
  {
   "cell_type": "code",
   "execution_count": 6,
   "metadata": {},
   "outputs": [],
   "source": [
    "# Imports the Google Cloud client library\n",
    "import google.cloud\n",
    "from google.cloud import language\n",
    "from google.cloud.language import enums\n",
    "from google.cloud.language import types\n"
   ]
  },
  {
   "cell_type": "code",
   "execution_count": 9,
   "metadata": {},
   "outputs": [],
   "source": [
    "text = \"Rick is an eccentric and alcoholic mad scientist, who eschews many ordinary conventions such as school, marriage, love, and family.\"\n",
    "client = language.LanguageServiceClient()\n",
    "document = types.Document(\n",
    "        content=text,\n",
    "        type=enums.Document.Type.PLAIN_TEXT)\n",
    "\n",
    "sentiment = client.analyze_sentiment(document).document_sentiment"
   ]
  },
  {
   "cell_type": "code",
   "execution_count": 10,
   "metadata": {},
   "outputs": [
    {
     "name": "stdout",
     "output_type": "stream",
     "text": [
      "Score: 0.8999999761581421\n",
      "Magnitude: 0.8999999761581421\n"
     ]
    }
   ],
   "source": [
    "print('Score: {}'.format(sentiment.score))\n",
    "print('Magnitude: {}'.format(sentiment.magnitude))"
   ]
  },
  {
   "cell_type": "code",
   "execution_count": 11,
   "metadata": {},
   "outputs": [
    {
     "data": {
      "text/plain": [
       "[name: \"Rick\"\n",
       "type: PERSON\n",
       "salience: 0.758594810962677\n",
       "mentions {\n",
       "  text {\n",
       "    content: \"Rick\"\n",
       "    begin_offset: -1\n",
       "  }\n",
       "  type: PROPER\n",
       "}\n",
       "mentions {\n",
       "  text {\n",
       "    content: \"mad scientist\"\n",
       "    begin_offset: -1\n",
       "  }\n",
       "  type: COMMON\n",
       "}\n",
       ", name: \"conventions\"\n",
       "type: OTHER\n",
       "salience: 0.08138427138328552\n",
       "mentions {\n",
       "  text {\n",
       "    content: \"conventions\"\n",
       "    begin_offset: -1\n",
       "  }\n",
       "  type: COMMON\n",
       "}\n",
       ", name: \"love\"\n",
       "type: OTHER\n",
       "salience: 0.061606135219335556\n",
       "mentions {\n",
       "  text {\n",
       "    content: \"love\"\n",
       "    begin_offset: -1\n",
       "  }\n",
       "  type: COMMON\n",
       "}\n",
       ", name: \"family\"\n",
       "type: PERSON\n",
       "salience: 0.04316957667469978\n",
       "mentions {\n",
       "  text {\n",
       "    content: \"family\"\n",
       "    begin_offset: -1\n",
       "  }\n",
       "  type: COMMON\n",
       "}\n",
       ", name: \"school\"\n",
       "type: ORGANIZATION\n",
       "salience: 0.027622591704130173\n",
       "mentions {\n",
       "  text {\n",
       "    content: \"school\"\n",
       "    begin_offset: -1\n",
       "  }\n",
       "  type: COMMON\n",
       "}\n",
       ", name: \"marriage\"\n",
       "type: OTHER\n",
       "salience: 0.027622591704130173\n",
       "mentions {\n",
       "  text {\n",
       "    content: \"marriage\"\n",
       "    begin_offset: -1\n",
       "  }\n",
       "  type: COMMON\n",
       "}\n",
       "]"
      ]
     },
     "execution_count": 11,
     "metadata": {},
     "output_type": "execute_result"
    }
   ],
   "source": [
    "entities = client.analyze_entities(document).entities\n",
    "entities"
   ]
  },
  {
   "cell_type": "code",
   "execution_count": null,
   "metadata": {
    "collapsed": true
   },
   "outputs": [],
   "source": []
  }
 ],
 "metadata": {
  "kernelspec": {
   "display_name": "Python 3",
   "language": "python",
   "name": "python3"
  },
  "language_info": {
   "codemirror_mode": {
    "name": "ipython",
    "version": 3
   },
   "file_extension": ".py",
   "mimetype": "text/x-python",
   "name": "python",
   "nbconvert_exporter": "python",
   "pygments_lexer": "ipython3",
   "version": "3.6.4"
  },
  "toc": {
   "nav_menu": {},
   "number_sections": true,
   "sideBar": true,
   "skip_h1_title": false,
   "title_cell": "Table of Contents",
   "title_sidebar": "Contents",
   "toc_cell": false,
   "toc_position": {},
   "toc_section_display": true,
   "toc_window_display": false
  }
 },
 "nbformat": 4,
 "nbformat_minor": 2
}
